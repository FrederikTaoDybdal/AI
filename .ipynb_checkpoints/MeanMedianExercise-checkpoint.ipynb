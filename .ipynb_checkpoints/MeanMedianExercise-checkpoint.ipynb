{
 "cells": [
  {
   "cell_type": "markdown",
   "metadata": {
    "deletable": true,
    "editable": true
   },
   "source": [
    "# Exercise: Mean & Median Customer Spend"
   ]
  },
  {
   "cell_type": "markdown",
   "metadata": {
    "deletable": true,
    "editable": true
   },
   "source": [
    "Here's some code that will generate some random e-commerce data; just an array of total amount spent per transaction. Select the code block, and hit \"play\" to execute it:"
   ]
  },
  {
   "cell_type": "code",
   "execution_count": 10,
   "metadata": {
    "collapsed": false,
    "deletable": true,
    "editable": true
   },
   "outputs": [
    {
     "data": {
      "image/png": "[encoded data removed]",
      "text/plain": [
       "<matplotlib.figure.Figure at 0x10635d400>"
      ]
     },
     "metadata": {},
     "output_type": "display_data"
    }
   ],
   "source": [
    "%matplotlib inline\n",
    "import numpy as np\n",
    "import matplotlib.pyplot as plt\n",
    "\n",
    "incomes = np.random.normal(100.0, 20.0, 10000)\n",
    "\n",
    "plt.hist(incomes, 50)\n",
    "plt.show()"
   ]
  },
  {
   "cell_type": "markdown",
   "metadata": {
    "deletable": true,
    "editable": true
   },
   "source": [
    "Now, find the mean and median of this data. In the code block below, write your code, and see if your result makes sense:"
   ]
  },
  {
   "cell_type": "code",
   "execution_count": 11,
   "metadata": {
    "collapsed": false,
    "deletable": true,
    "editable": true
   },
   "outputs": [
    {
     "data": {
      "text/plain": [
       "(99.897477089256682,)"
      ]
     },
     "execution_count": 11,
     "metadata": {},
     "output_type": "execute_result"
    }
   ],
   "source": [
    "np.median(incomes)\n"
   ]
  },
  {
   "cell_type": "markdown",
   "metadata": {
    "deletable": true,
    "editable": true
   },
   "source": [
    "This is pretty much the world's easiest assignment, but we're just trying to get your hands on iPython and writing code with numpy to get you comfortable with it.\n",
    "\n",
    "Try playing with the code above to generate different distributions of data, or add outliers to it to see their effect."
   ]
  },
  {
   "cell_type": "code",
   "execution_count": 12,
   "metadata": {
    "collapsed": false,
    "deletable": true,
    "editable": true
   },
   "outputs": [
    {
     "data": {
      "text/plain": [
       "99.779030891135847"
      ]
     },
     "execution_count": 12,
     "metadata": {},
     "output_type": "execute_result"
    }
   ],
   "source": [
    "np.mean(incomes)"
   ]
  },
  {
   "cell_type": "code",
   "execution_count": 13,
   "metadata": {
    "collapsed": true
   },
   "outputs": [],
   "source": [
    "incomes = np.append(incomes, [1000000000])"
   ]
  },
  {
   "cell_type": "code",
   "execution_count": 14,
   "metadata": {
    "collapsed": false
   },
   "outputs": [
    {
     "data": {
      "text/plain": [
       "99.904730297763706"
      ]
     },
     "execution_count": 14,
     "metadata": {},
     "output_type": "execute_result"
    }
   ],
   "source": [
    "np.median(incomes)"
   ]
  },
  {
   "cell_type": "code",
   "execution_count": 15,
   "metadata": {
    "collapsed": false
   },
   "outputs": [
    {
     "data": {
      "text/plain": [
       "100089.77005388575"
      ]
     },
     "execution_count": 15,
     "metadata": {},
     "output_type": "execute_result"
    }
   ],
   "source": [
    "np.mean(incomes)"
   ]
  },
  {
   "cell_type": "code",
   "execution_count": 17,
   "metadata": {
    "collapsed": false
   },
   "outputs": [
    {
     "data": {
      "text/plain": [
       "array([77, 21, 81, 87, 10, 63, 24, 37, 84, 63, 30, 26, 52, 82, 28, 59, 29,\n",
       "       73, 26,  4, 64, 43, 57,  4, 37, 87, 75, 71, 12, 38, 64, 63, 44, 40,\n",
       "       83, 11, 42, 81, 23,  2, 69, 40, 85, 56, 92, 37, 84, 83, 63, 31, 17,\n",
       "       29, 36, 98, 36,  8, 31, 52, 20, 37, 15, 27, 58, 39,  8, 13, 36, 16,\n",
       "       90, 51, 11, 93, 66, 24, 14, 74, 64, 51, 79, 80, 36, 47, 20, 20, 85,\n",
       "       65,  2, 83, 71,  4, 50, 63,  2, 25, 64,  6, 63, 15, 65, 26, 14, 11,\n",
       "       93, 66, 86, 79, 68, 97, 62, 10, 86,  6,  4, 60, 46, 59, 20, 16, 53,\n",
       "       56, 46, 46, 45, 13, 51, 98,  8, 54,  4, 33, 57, 43, 56, 59, 89,  9,\n",
       "       86, 14, 12, 87, 49, 61, 72, 32, 36, 29, 21, 44, 93, 37, 66, 96, 83,\n",
       "       82, 49, 28, 10, 20, 39, 62, 80, 45, 30, 55, 80, 45, 81, 13, 65, 40,\n",
       "       50, 59, 77, 37, 26, 12, 22, 20, 31, 22, 44, 63, 19, 79, 72, 76, 62,\n",
       "       39, 70,  1, 56, 27, 44, 54, 56, 60, 77, 90, 60, 12, 14, 13, 56, 10,\n",
       "       98, 96,  0,  6, 30, 43, 66, 87, 84, 76, 63, 22, 21, 85, 20, 56, 39,\n",
       "       70, 73, 43, 86, 68, 23,  3, 52, 47, 68, 34, 43, 81, 76,  9, 66, 86,\n",
       "       82, 57,  1,  1, 41, 29, 66,  4, 11, 26,  9, 60, 79, 11, 91, 25, 80,\n",
       "       51, 56,  8, 48, 24, 49, 99, 27, 87, 89, 72,  5, 27,  6, 18, 74, 32,\n",
       "       52, 45, 60, 62, 72, 60, 87, 96, 73, 64, 19, 27, 73, 30, 94, 81, 76,\n",
       "       13, 67,  5, 61, 60, 17, 49, 82, 77, 87, 36, 63, 80, 41, 81, 85, 14,\n",
       "       23, 50, 24, 99,  5, 97,  5, 13, 59, 11, 25, 99, 70, 18, 35, 43, 48,\n",
       "       21, 78, 74, 75,  9, 97, 85,  0, 99, 17, 12, 13, 20, 92, 77, 21,  2,\n",
       "       40, 48, 22, 22,  6, 46, 99, 87, 86, 95, 64, 95,  9, 73, 13, 72, 85,\n",
       "       19, 66, 31, 82, 52, 15, 98, 19, 62, 58, 39, 82, 76, 66, 39, 61, 42,\n",
       "       57, 41, 72,  5, 58, 53, 98, 73, 26, 72, 64, 66, 79, 60, 85, 63, 23,\n",
       "       59, 10, 43, 94, 97, 83, 58, 39, 37, 22, 50, 24, 10, 26, 64, 10, 12,\n",
       "       27,  9, 95, 21, 28, 71, 23, 22, 68, 44, 42,  5, 57, 98, 91, 76, 67,\n",
       "       72, 86, 15, 14, 54, 32, 55, 87,  3, 12, 70, 26, 63,  6, 50, 36, 64,\n",
       "       83, 96, 21, 69, 85, 99, 70, 56, 69, 72, 56, 77, 80, 39, 92, 95, 78,\n",
       "       70,  3, 28, 44, 24, 34, 49, 34, 50, 21, 73,  0, 43, 27, 90, 48, 52,\n",
       "       61, 73, 23, 48, 90, 63, 74, 39, 34, 73, 17,  3, 34, 85, 37, 20, 60,\n",
       "       35, 60, 30, 50, 30, 31, 93])"
      ]
     },
     "execution_count": 17,
     "metadata": {},
     "output_type": "execute_result"
    }
   ],
   "source": [
    "ages = np.random.randint(0, high=100, size=500)\n",
    "ages"
   ]
  },
  {
   "cell_type": "code",
   "execution_count": 18,
   "metadata": {
    "collapsed": false
   },
   "outputs": [
    {
     "data": {
      "text/plain": [
       "ModeResult(mode=array([63]), count=array([12]))"
      ]
     },
     "execution_count": 18,
     "metadata": {},
     "output_type": "execute_result"
    }
   ],
   "source": [
    "from scipy import stats\n",
    "stats.mode(ages)"
   ]
  },
  {
   "cell_type": "code",
   "execution_count": null,
   "metadata": {
    "collapsed": true
   },
   "outputs": [],
   "source": []
  }
 ],
 "metadata": {
  "kernelspec": {
   "display_name": "Python 3",
   "language": "python",
   "name": "python3"
  },
  "language_info": {
   "codemirror_mode": {
    "name": "ipython",
    "version": 3
   },
   "file_extension": ".py",
   "mimetype": "text/x-python",
   "name": "python",
   "nbconvert_exporter": "python",
   "pygments_lexer": "ipython3",
   "version": "3.5.2"
  }
 },
 "nbformat": 4,
 "nbformat_minor": 0
}
