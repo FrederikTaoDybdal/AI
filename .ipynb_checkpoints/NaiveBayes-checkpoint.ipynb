{
 "cells": [
  {
   "cell_type": "markdown",
   "metadata": {
    "deletable": true,
    "editable": true
   },
   "source": [
    "# Naive Bayes (the easy way)"
   ]
  },
  {
   "cell_type": "markdown",
   "metadata": {
    "deletable": true,
    "editable": true
   },
   "source": [
    "We'll cheat by using sklearn.naive_bayes to train a spam classifier! Most of the code is just loading our training data into a pandas DataFrame that we can play with:"
   ]
  },
  {
   "cell_type": "code",
   "execution_count": 128,
   "metadata": {
    "collapsed": false,
    "deletable": true,
    "editable": true
   },
   "outputs": [],
   "source": [
    "import os\n",
    "import io\n",
    "import numpy\n",
    "from pandas import DataFrame\n",
    "from sklearn.feature_extraction.text import CountVectorizer\n",
    "from sklearn.naive_bayes import MultinomialNB\n",
    "\n",
    "def readFiles(path):\n",
    "    for root, dirnames, filenames in os.walk(path):\n",
    "        for filename in filenames:\n",
    "            path = os.path.join(root, filename)\n",
    "\n",
    "            inBody = False\n",
    "            lines = []\n",
    "            f = io.open(path, 'r', encoding='latin1')\n",
    "            for line in f:\n",
    "                if inBody:\n",
    "                    lines.append(line)\n",
    "                elif line == '\\n':\n",
    "                    inBody = True\n",
    "            f.close()\n",
    "            message = '\\n'.join(lines)\n",
    "            yield path, message\n",
    "\n",
    "\n",
    "def dataFrameFromDirectory(path, classification):\n",
    "    rows = []\n",
    "    index = []\n",
    "    for filename, message in readFiles(path):\n",
    "        rows.append({'message': message, 'class': classification})\n",
    "        index.append(filename)\n",
    "\n",
    "    return DataFrame(rows, index=index)\n",
    "\n",
    "train = DataFrame({'message': [], 'class': []})\n",
    "\n",
    "train = train.append(dataFrameFromDirectory('/Users/user/Desktop/DataScience-Python3/emails/spam', 'spam'))[:80]\n",
    "train = train.append(dataFrameFromDirectory('/Users/user/Desktop/DataScience-Python3/emails/ham', 'ham'))[:80]\n",
    "\n",
    "test = DataFrame({'message': [], 'class': []})\n",
    "\n",
    "test = test.append(dataFrameFromDirectory('/Users/user/Desktop/DataScience-Python3/emails/spam', 'spam'))[80:]\n",
    "test = test.append(dataFrameFromDirectory('/Users/user/Desktop/DataScience-Python3/emails/ham', 'ham'))[80:]\n",
    "\n",
    "testTrain = DataFrame({'message': [], 'class': []})\n",
    "\n",
    "testTrain = testTrain.append(dataFrameFromDirectory('/Users/user/Desktop/DataScience-Python3/emails/spam', 'spam'))\n",
    "testTrain = testTrain.append(dataFrameFromDirectory('/Users/user/Desktop/DataScience-Python3/emails/ham', 'ham'))\n",
    "\n",
    "\n",
    "\n"
   ]
  },
  {
   "cell_type": "markdown",
   "metadata": {
    "deletable": true,
    "editable": true
   },
   "source": [
    "Let's have a look at that DataFrame:"
   ]
  },
  {
   "cell_type": "code",
   "execution_count": 129,
   "metadata": {
    "collapsed": false,
    "deletable": true,
    "editable": true
   },
   "outputs": [
    {
     "data": {
      "text/html": [
       "<div>\n",
       "<style>\n",
       "    .dataframe thead tr:only-child th {\n",
       "        text-align: right;\n",
       "    }\n",
       "\n",
       "    .dataframe thead th {\n",
       "        text-align: left;\n",
       "    }\n",
       "\n",
       "    .dataframe tbody tr th {\n",
       "        vertical-align: top;\n",
       "    }\n",
       "</style>\n",
       "<table border=\"1\" class=\"dataframe\">\n",
       "  <thead>\n",
       "    <tr style=\"text-align: right;\">\n",
       "      <th></th>\n",
       "      <th>class</th>\n",
       "      <th>message</th>\n",
       "    </tr>\n",
       "  </thead>\n",
       "  <tbody>\n",
       "    <tr>\n",
       "      <th>/Users/user/Desktop/DataScience-Python3/emails/spam/00001.7848dde101aa985090474a91ec93fcf0</th>\n",
       "      <td>spam</td>\n",
       "      <td>&lt;!DOCTYPE HTML PUBLIC \"-//W3C//DTD HTML 4.0 Tr...</td>\n",
       "    </tr>\n",
       "    <tr>\n",
       "      <th>/Users/user/Desktop/DataScience-Python3/emails/spam/00002.d94f1b97e48ed3b553b3508d116e6a09</th>\n",
       "      <td>spam</td>\n",
       "      <td>1) Fight The Risk of Cancer!\\n\\nhttp://www.adc...</td>\n",
       "    </tr>\n",
       "    <tr>\n",
       "      <th>/Users/user/Desktop/DataScience-Python3/emails/spam/00003.2ee33bc6eacdb11f38d052c44819ba6c</th>\n",
       "      <td>spam</td>\n",
       "      <td>1) Fight The Risk of Cancer!\\n\\nhttp://www.adc...</td>\n",
       "    </tr>\n",
       "    <tr>\n",
       "      <th>/Users/user/Desktop/DataScience-Python3/emails/spam/00004.eac8de8d759b7e74154f142194282724</th>\n",
       "      <td>spam</td>\n",
       "      <td>##############################################...</td>\n",
       "    </tr>\n",
       "    <tr>\n",
       "      <th>/Users/user/Desktop/DataScience-Python3/emails/spam/00005.57696a39d7d84318ce497886896bf90d</th>\n",
       "      <td>spam</td>\n",
       "      <td>I thought you might like these:\\n\\n1) Slim Dow...</td>\n",
       "    </tr>\n",
       "  </tbody>\n",
       "</table>\n",
       "</div>"
      ],
      "text/plain": [
       "                                                   class  \\\n",
       "/Users/user/Desktop/DataScience-Python3/emails/...  spam   \n",
       "/Users/user/Desktop/DataScience-Python3/emails/...  spam   \n",
       "/Users/user/Desktop/DataScience-Python3/emails/...  spam   \n",
       "/Users/user/Desktop/DataScience-Python3/emails/...  spam   \n",
       "/Users/user/Desktop/DataScience-Python3/emails/...  spam   \n",
       "\n",
       "                                                                                              message  \n",
       "/Users/user/Desktop/DataScience-Python3/emails/...  <!DOCTYPE HTML PUBLIC \"-//W3C//DTD HTML 4.0 Tr...  \n",
       "/Users/user/Desktop/DataScience-Python3/emails/...  1) Fight The Risk of Cancer!\\n\\nhttp://www.adc...  \n",
       "/Users/user/Desktop/DataScience-Python3/emails/...  1) Fight The Risk of Cancer!\\n\\nhttp://www.adc...  \n",
       "/Users/user/Desktop/DataScience-Python3/emails/...  ##############################################...  \n",
       "/Users/user/Desktop/DataScience-Python3/emails/...  I thought you might like these:\\n\\n1) Slim Dow...  "
      ]
     },
     "execution_count": 129,
     "metadata": {},
     "output_type": "execute_result"
    }
   ],
   "source": [
    "train.head()"
   ]
  },
  {
   "cell_type": "markdown",
   "metadata": {
    "deletable": true,
    "editable": true
   },
   "source": [
    "Now we will use a CountVectorizer to split up each message into its list of words, and throw that into a MultinomialNB classifier. Call fit() and we've got a trained spam filter ready to go! It's just that easy."
   ]
  },
  {
   "cell_type": "code",
   "execution_count": 130,
   "metadata": {
    "collapsed": false,
    "deletable": true,
    "editable": true
   },
   "outputs": [
    {
     "name": "stderr",
     "output_type": "stream",
     "text": [
      "/Users/user/Library/Enthought/Canopy/edm/envs/User/lib/python3.5/site-packages/sklearn/naive_bayes.py:455: RuntimeWarning: divide by zero encountered in log\n",
      "  self.class_log_prior_ = (np.log(self.class_count_) -\n"
     ]
    },
    {
     "data": {
      "text/plain": [
       "MultinomialNB(alpha=1.0, class_prior=None, fit_prior=True)"
      ]
     },
     "execution_count": 130,
     "metadata": {},
     "output_type": "execute_result"
    }
   ],
   "source": [
    "vectorizer = CountVectorizer()\n",
    "counts = vectorizer.fit_transform(train['message'].values)\n",
    "\n",
    "classifier = MultinomialNB()\n",
    "targets = train['class'].values\n",
    "classifier.fit(counts, targets)"
   ]
  },
  {
   "cell_type": "markdown",
   "metadata": {
    "deletable": true,
    "editable": true
   },
   "source": [
    "Let's try it out:"
   ]
  },
  {
   "cell_type": "code",
   "execution_count": 131,
   "metadata": {
    "collapsed": false,
    "deletable": true,
    "editable": true
   },
   "outputs": [
    {
     "data": {
      "text/plain": [
       "array(['spam', 'spam'], \n",
       "      dtype='<U4')"
      ]
     },
     "execution_count": 131,
     "metadata": {},
     "output_type": "execute_result"
    }
   ],
   "source": [
    "examples = ['Free Viagra now!!!', \"Hi Bob, how about a game of golf tomorrow?\"]\n",
    "example_counts = vectorizer.transform(examples)\n",
    "predictions = classifier.predict(example_counts)\n",
    "predictions"
   ]
  },
  {
   "cell_type": "markdown",
   "metadata": {
    "deletable": true,
    "editable": true
   },
   "source": [
    "## Activity"
   ]
  },
  {
   "cell_type": "markdown",
   "metadata": {
    "deletable": true,
    "editable": true
   },
   "source": [
    "Our data set is small, so our spam classifier isn't actually very good. Try running some different test emails through it and see if you get the results you expect.\n",
    "\n",
    "If you really want to challenge yourself, try applying train/test to this spam classifier - see how well it can predict some subset of the ham and spam emails."
   ]
  },
  {
   "cell_type": "code",
   "execution_count": 132,
   "metadata": {
    "collapsed": false,
    "deletable": true,
    "editable": true
   },
   "outputs": [
    {
     "data": {
      "text/html": [
       "<div>\n",
       "<style>\n",
       "    .dataframe thead tr:only-child th {\n",
       "        text-align: right;\n",
       "    }\n",
       "\n",
       "    .dataframe thead th {\n",
       "        text-align: left;\n",
       "    }\n",
       "\n",
       "    .dataframe tbody tr th {\n",
       "        vertical-align: top;\n",
       "    }\n",
       "</style>\n",
       "<table border=\"1\" class=\"dataframe\">\n",
       "  <thead>\n",
       "    <tr style=\"text-align: right;\">\n",
       "      <th></th>\n",
       "      <th>class</th>\n",
       "      <th>message</th>\n",
       "    </tr>\n",
       "  </thead>\n",
       "  <tbody>\n",
       "    <tr>\n",
       "      <th>/Users/user/Desktop/DataScience-Python3/emails/spam/00161.ae33257753c9bdaaadc9221347868496</th>\n",
       "      <td>spam</td>\n",
       "      <td>HI,  zzzz@spamassassin.taint.org   today,\\n\\n&lt;...</td>\n",
       "    </tr>\n",
       "    <tr>\n",
       "      <th>/Users/user/Desktop/DataScience-Python3/emails/spam/00162.6d0397cc491b214db1e84e19bb49177a</th>\n",
       "      <td>spam</td>\n",
       "      <td>&lt;title&gt;New Page 1&lt;/title&gt;\\n\\n&lt;/head&gt;\\n\\n\\n\\n&lt;b...</td>\n",
       "    </tr>\n",
       "    <tr>\n",
       "      <th>/Users/user/Desktop/DataScience-Python3/emails/spam/00163.244a217b150d2129cbdc52b96d992382</th>\n",
       "      <td>spam</td>\n",
       "      <td>We guarantee you signups before you ever pay\\n...</td>\n",
       "    </tr>\n",
       "    <tr>\n",
       "      <th>/Users/user/Desktop/DataScience-Python3/emails/spam/00164.8536500ed9cadc8397a63b697d043c0b</th>\n",
       "      <td>spam</td>\n",
       "      <td>Help wanted.  We are a 14 year old fortune 500...</td>\n",
       "    </tr>\n",
       "    <tr>\n",
       "      <th>/Users/user/Desktop/DataScience-Python3/emails/spam/00165.45db168e8e1a78a66972b9f50c47b6dc</th>\n",
       "      <td>spam</td>\n",
       "      <td>&lt;FONT SIZE=1 COLOR=\"000000\"&gt;To be removed plea...</td>\n",
       "    </tr>\n",
       "  </tbody>\n",
       "</table>\n",
       "</div>"
      ],
      "text/plain": [
       "                                                   class  \\\n",
       "/Users/user/Desktop/DataScience-Python3/emails/...  spam   \n",
       "/Users/user/Desktop/DataScience-Python3/emails/...  spam   \n",
       "/Users/user/Desktop/DataScience-Python3/emails/...  spam   \n",
       "/Users/user/Desktop/DataScience-Python3/emails/...  spam   \n",
       "/Users/user/Desktop/DataScience-Python3/emails/...  spam   \n",
       "\n",
       "                                                                                              message  \n",
       "/Users/user/Desktop/DataScience-Python3/emails/...  HI,  zzzz@spamassassin.taint.org   today,\\n\\n<...  \n",
       "/Users/user/Desktop/DataScience-Python3/emails/...  <title>New Page 1</title>\\n\\n</head>\\n\\n\\n\\n<b...  \n",
       "/Users/user/Desktop/DataScience-Python3/emails/...  We guarantee you signups before you ever pay\\n...  \n",
       "/Users/user/Desktop/DataScience-Python3/emails/...  Help wanted.  We are a 14 year old fortune 500...  \n",
       "/Users/user/Desktop/DataScience-Python3/emails/...  <FONT SIZE=1 COLOR=\"000000\">To be removed plea...  "
      ]
     },
     "execution_count": 132,
     "metadata": {},
     "output_type": "execute_result"
    }
   ],
   "source": [
    "test.head()"
   ]
  },
  {
   "cell_type": "code",
   "execution_count": 133,
   "metadata": {
    "collapsed": false
   },
   "outputs": [
    {
     "data": {
      "text/plain": [
       "MultinomialNB(alpha=1.0, class_prior=None, fit_prior=True)"
      ]
     },
     "execution_count": 133,
     "metadata": {},
     "output_type": "execute_result"
    }
   ],
   "source": [
    "vectorizer = CountVectorizer()\n",
    "counts = vectorizer.fit_transform(test['message'].values)\n",
    "\n",
    "classifier = MultinomialNB()\n",
    "targets = test['class'].values\n",
    "classifier.fit(counts, targets)"
   ]
  },
  {
   "cell_type": "code",
   "execution_count": 134,
   "metadata": {
    "collapsed": false
   },
   "outputs": [
    {
     "data": {
      "text/plain": [
       "array(['ham', 'ham'], \n",
       "      dtype='<U4')"
      ]
     },
     "execution_count": 134,
     "metadata": {},
     "output_type": "execute_result"
    }
   ],
   "source": [
    "examples = ['Free Viagra now!!!', \"Hi Bob, how about a game of golf tomorrow?\"]\n",
    "example_counts = vectorizer.transform(examples)\n",
    "predictions = classifier.predict(example_counts)\n",
    "predictions"
   ]
  },
  {
   "cell_type": "code",
   "execution_count": 135,
   "metadata": {
    "collapsed": false
   },
   "outputs": [
    {
     "data": {
      "text/html": [
       "<div>\n",
       "<style>\n",
       "    .dataframe thead tr:only-child th {\n",
       "        text-align: right;\n",
       "    }\n",
       "\n",
       "    .dataframe thead th {\n",
       "        text-align: left;\n",
       "    }\n",
       "\n",
       "    .dataframe tbody tr th {\n",
       "        vertical-align: top;\n",
       "    }\n",
       "</style>\n",
       "<table border=\"1\" class=\"dataframe\">\n",
       "  <thead>\n",
       "    <tr style=\"text-align: right;\">\n",
       "      <th></th>\n",
       "      <th>class</th>\n",
       "      <th>message</th>\n",
       "    </tr>\n",
       "  </thead>\n",
       "  <tbody>\n",
       "    <tr>\n",
       "      <th>/Users/user/Desktop/DataScience-Python3/emails/spam/00001.7848dde101aa985090474a91ec93fcf0</th>\n",
       "      <td>spam</td>\n",
       "      <td>&lt;!DOCTYPE HTML PUBLIC \"-//W3C//DTD HTML 4.0 Tr...</td>\n",
       "    </tr>\n",
       "    <tr>\n",
       "      <th>/Users/user/Desktop/DataScience-Python3/emails/spam/00002.d94f1b97e48ed3b553b3508d116e6a09</th>\n",
       "      <td>spam</td>\n",
       "      <td>1) Fight The Risk of Cancer!\\n\\nhttp://www.adc...</td>\n",
       "    </tr>\n",
       "    <tr>\n",
       "      <th>/Users/user/Desktop/DataScience-Python3/emails/spam/00003.2ee33bc6eacdb11f38d052c44819ba6c</th>\n",
       "      <td>spam</td>\n",
       "      <td>1) Fight The Risk of Cancer!\\n\\nhttp://www.adc...</td>\n",
       "    </tr>\n",
       "    <tr>\n",
       "      <th>/Users/user/Desktop/DataScience-Python3/emails/spam/00004.eac8de8d759b7e74154f142194282724</th>\n",
       "      <td>spam</td>\n",
       "      <td>##############################################...</td>\n",
       "    </tr>\n",
       "    <tr>\n",
       "      <th>/Users/user/Desktop/DataScience-Python3/emails/spam/00005.57696a39d7d84318ce497886896bf90d</th>\n",
       "      <td>spam</td>\n",
       "      <td>I thought you might like these:\\n\\n1) Slim Dow...</td>\n",
       "    </tr>\n",
       "  </tbody>\n",
       "</table>\n",
       "</div>"
      ],
      "text/plain": [
       "                                                   class  \\\n",
       "/Users/user/Desktop/DataScience-Python3/emails/...  spam   \n",
       "/Users/user/Desktop/DataScience-Python3/emails/...  spam   \n",
       "/Users/user/Desktop/DataScience-Python3/emails/...  spam   \n",
       "/Users/user/Desktop/DataScience-Python3/emails/...  spam   \n",
       "/Users/user/Desktop/DataScience-Python3/emails/...  spam   \n",
       "\n",
       "                                                                                              message  \n",
       "/Users/user/Desktop/DataScience-Python3/emails/...  <!DOCTYPE HTML PUBLIC \"-//W3C//DTD HTML 4.0 Tr...  \n",
       "/Users/user/Desktop/DataScience-Python3/emails/...  1) Fight The Risk of Cancer!\\n\\nhttp://www.adc...  \n",
       "/Users/user/Desktop/DataScience-Python3/emails/...  1) Fight The Risk of Cancer!\\n\\nhttp://www.adc...  \n",
       "/Users/user/Desktop/DataScience-Python3/emails/...  ##############################################...  \n",
       "/Users/user/Desktop/DataScience-Python3/emails/...  I thought you might like these:\\n\\n1) Slim Dow...  "
      ]
     },
     "execution_count": 135,
     "metadata": {},
     "output_type": "execute_result"
    }
   ],
   "source": [
    "testTrain.head()"
   ]
  },
  {
   "cell_type": "code",
   "execution_count": 136,
   "metadata": {
    "collapsed": false
   },
   "outputs": [
    {
     "data": {
      "text/plain": [
       "MultinomialNB(alpha=1.0, class_prior=None, fit_prior=True)"
      ]
     },
     "execution_count": 136,
     "metadata": {},
     "output_type": "execute_result"
    }
   ],
   "source": [
    "vectorizer = CountVectorizer()\n",
    "counts = vectorizer.fit_transform(testTrain['message'].values)\n",
    "\n",
    "classifier = MultinomialNB()\n",
    "targets = testTrain['class'].values\n",
    "classifier.fit(counts, targets)"
   ]
  },
  {
   "cell_type": "code",
   "execution_count": 137,
   "metadata": {
    "collapsed": false
   },
   "outputs": [
    {
     "data": {
      "text/plain": [
       "array(['spam', 'ham'], \n",
       "      dtype='<U4')"
      ]
     },
     "execution_count": 137,
     "metadata": {},
     "output_type": "execute_result"
    }
   ],
   "source": [
    "examples = ['Free Viagra now!!!', \"Hi Bob, how about a game of golf tomorrow?\"]\n",
    "example_counts = vectorizer.transform(examples)\n",
    "predictions = classifier.predict(example_counts)\n",
    "predictions"
   ]
  },
  {
   "cell_type": "code",
   "execution_count": null,
   "metadata": {
    "collapsed": true
   },
   "outputs": [],
   "source": []
  }
 ],
 "metadata": {
  "kernelspec": {
   "display_name": "Python 3",
   "language": "python",
   "name": "python3"
  },
  "language_info": {
   "codemirror_mode": {
    "name": "ipython",
    "version": 3
   },
   "file_extension": ".py",
   "mimetype": "text/x-python",
   "name": "python",
   "nbconvert_exporter": "python",
   "pygments_lexer": "ipython3",
   "version": "3.5.2"
  }
 },
 "nbformat": 4,
 "nbformat_minor": 0
}
